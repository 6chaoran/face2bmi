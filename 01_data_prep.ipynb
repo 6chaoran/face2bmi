{
  "nbformat": 4,
  "nbformat_minor": 0,
  "metadata": {
    "hide_input": false,
    "kernelspec": {
      "display_name": "face2bmi",
      "language": "python",
      "name": "face2bmi"
    },
    "language_info": {
      "codemirror_mode": {
        "name": "ipython",
        "version": 3
      },
      "file_extension": ".py",
      "mimetype": "text/x-python",
      "name": "python",
      "nbconvert_exporter": "python",
      "pygments_lexer": "ipython3",
      "version": "3.6.9"
    },
    "toc": {
      "base_numbering": 1,
      "nav_menu": {},
      "number_sections": true,
      "sideBar": true,
      "skip_h1_title": false,
      "title_cell": "Table of Contents",
      "title_sidebar": "Contents",
      "toc_cell": false,
      "toc_position": {},
      "toc_section_display": true,
      "toc_window_display": false
    },
    "colab": {
      "name": "01_data_prep.ipynb",
      "provenance": [],
      "include_colab_link": true
    }
  },
  "cells": [
    {
      "cell_type": "markdown",
      "metadata": {
        "id": "view-in-github",
        "colab_type": "text"
      },
      "source": [
        "<a href=\"https://colab.research.google.com/github/So-AI-love/face2bmi/blob/master/01_data_prep.ipynb\" target=\"_parent\"><img src=\"https://colab.research.google.com/assets/colab-badge.svg\" alt=\"Open In Colab\"/></a>"
      ]
    },
    {
      "cell_type": "markdown",
      "metadata": {
        "id": "gyrUzc02tRn6"
      },
      "source": [
        "# Data Pipeline\n",
        "\n",
        "1.  face images were web-scraped from [Polk County](https://apps.polkcountyiowa.gov/PolkCountyInmates/CurrentInmates/), which is __no longer valid__ (_updated on 2020-07-24_)    \n",
        "2. combine meta data\n",
        "3. preprocess and Height, Weight and derive BMI"
      ]
    },
    {
      "cell_type": "code",
      "metadata": {
        "ExecuteTime": {
          "end_time": "2020-07-24T09:56:40.375286Z",
          "start_time": "2020-07-24T09:56:39.451605Z"
        },
        "id": "8KuenzmqtRog"
      },
      "source": [
        "import pandas as pd\n",
        "import os\n",
        "import re\n",
        "import numpy as np\n",
        "from matplotlib import pyplot as plt\n",
        "import seaborn as sns\n",
        "%matplotlib inline"
      ],
      "execution_count": 1,
      "outputs": []
    },
    {
      "cell_type": "markdown",
      "metadata": {
        "id": "QzPMn0KttRol"
      },
      "source": [
        "## original data before clean"
      ]
    },
    {
      "cell_type": "code",
      "metadata": {
        "id": "lMRRavlutdEj",
        "outputId": "fef6d032-3669-4975-d696-3a2f2bfeb35d",
        "colab": {
          "base_uri": "https://localhost:8080/"
        }
      },
      "source": [
        " \n",
        "%cd /content\n",
        "!git clone https://github.com/6chaoran/face2bmi\n",
        "%cd /content/face2bmi"
      ],
      "execution_count": 5,
      "outputs": [
        {
          "output_type": "stream",
          "text": [
            "/content\n",
            "fatal: destination path 'face2bmi' already exists and is not an empty directory.\n",
            "/content/face2bmi\n"
          ],
          "name": "stdout"
        }
      ]
    },
    {
      "cell_type": "code",
      "metadata": {
        "ExecuteTime": {
          "end_time": "2020-07-24T09:56:40.403131Z",
          "start_time": "2020-07-24T09:56:40.377780Z"
        },
        "id": "8rfkL6TKtRom",
        "outputId": "08cfe40b-348f-455b-c5dc-623a32af02d1",
        "colab": {
          "base_uri": "https://localhost:8080/",
          "height": 398
        }
      },
      "source": [
        "data = pd.read_csv('./data/full.csv')\n",
        "data.head()"
      ],
      "execution_count": 7,
      "outputs": [
        {
          "output_type": "execute_result",
          "data": {
            "text/html": [
              "<div>\n",
              "<style scoped>\n",
              "    .dataframe tbody tr th:only-of-type {\n",
              "        vertical-align: middle;\n",
              "    }\n",
              "\n",
              "    .dataframe tbody tr th {\n",
              "        vertical-align: top;\n",
              "    }\n",
              "\n",
              "    .dataframe thead th {\n",
              "        text-align: right;\n",
              "    }\n",
              "</style>\n",
              "<table border=\"1\" class=\"dataframe\">\n",
              "  <thead>\n",
              "    <tr style=\"text-align: right;\">\n",
              "      <th></th>\n",
              "      <th>nameid</th>\n",
              "      <th>name</th>\n",
              "      <th>book_date</th>\n",
              "      <th>city</th>\n",
              "      <th>holding_location</th>\n",
              "      <th>age</th>\n",
              "      <th>height</th>\n",
              "      <th>weight</th>\n",
              "      <th>race</th>\n",
              "      <th>sex</th>\n",
              "      <th>eyes</th>\n",
              "      <th>hair</th>\n",
              "      <th>bookid</th>\n",
              "    </tr>\n",
              "  </thead>\n",
              "  <tbody>\n",
              "    <tr>\n",
              "      <th>0</th>\n",
              "      <td>7482</td>\n",
              "      <td>JAMES DEYO ROBINSON</td>\n",
              "      <td>3/10/2017 10:05:55 AM</td>\n",
              "      <td>WAUKEE, IA</td>\n",
              "      <td>PCJ</td>\n",
              "      <td>54</td>\n",
              "      <td>5' 11\"</td>\n",
              "      <td>280</td>\n",
              "      <td>Black</td>\n",
              "      <td>Male</td>\n",
              "      <td>Brown</td>\n",
              "      <td>Black</td>\n",
              "      <td>248038</td>\n",
              "    </tr>\n",
              "    <tr>\n",
              "      <th>1</th>\n",
              "      <td>754952</td>\n",
              "      <td>CORDERRO ALTON LAURENCE</td>\n",
              "      <td>4/23/2017 8:57:43 AM</td>\n",
              "      <td>DES MOINES, IA</td>\n",
              "      <td>Cherokee Mental Health</td>\n",
              "      <td>26</td>\n",
              "      <td>5' 11\"</td>\n",
              "      <td>210</td>\n",
              "      <td>Black</td>\n",
              "      <td>Male</td>\n",
              "      <td>Brown</td>\n",
              "      <td>Black</td>\n",
              "      <td>250464</td>\n",
              "    </tr>\n",
              "    <tr>\n",
              "      <th>2</th>\n",
              "      <td>644421</td>\n",
              "      <td>TAYLOR LOUIS HARLAN</td>\n",
              "      <td>12/7/2017 4:00:07 PM</td>\n",
              "      <td>DES MOINES, IA</td>\n",
              "      <td>PCJ</td>\n",
              "      <td>24</td>\n",
              "      <td>5' 09\"</td>\n",
              "      <td>290</td>\n",
              "      <td>White</td>\n",
              "      <td>Male</td>\n",
              "      <td>Green</td>\n",
              "      <td>Blonde</td>\n",
              "      <td>263711</td>\n",
              "    </tr>\n",
              "    <tr>\n",
              "      <th>3</th>\n",
              "      <td>699804</td>\n",
              "      <td>MALIK TYRONE MANDUJANO</td>\n",
              "      <td>4/1/2018 3:24:44 AM</td>\n",
              "      <td>DES MOINES, IA</td>\n",
              "      <td>PCJ</td>\n",
              "      <td>21</td>\n",
              "      <td>5' 03\"</td>\n",
              "      <td>130</td>\n",
              "      <td>Black</td>\n",
              "      <td>Male</td>\n",
              "      <td>Brown</td>\n",
              "      <td>Black</td>\n",
              "      <td>270020</td>\n",
              "    </tr>\n",
              "    <tr>\n",
              "      <th>4</th>\n",
              "      <td>238047</td>\n",
              "      <td>DUSTIN GLEN BLACK</td>\n",
              "      <td>8/5/2018 9:26:54 PM</td>\n",
              "      <td>DES MOINES, IA</td>\n",
              "      <td>PCJ</td>\n",
              "      <td>29</td>\n",
              "      <td>6' 02\"</td>\n",
              "      <td>230</td>\n",
              "      <td>White</td>\n",
              "      <td>Male</td>\n",
              "      <td>Blue</td>\n",
              "      <td>Blonde</td>\n",
              "      <td>277774</td>\n",
              "    </tr>\n",
              "  </tbody>\n",
              "</table>\n",
              "</div>"
            ],
            "text/plain": [
              "   nameid                     name  ...    hair  bookid\n",
              "0    7482      JAMES DEYO ROBINSON  ...   Black  248038\n",
              "1  754952  CORDERRO ALTON LAURENCE  ...   Black  250464\n",
              "2  644421      TAYLOR LOUIS HARLAN  ...  Blonde  263711\n",
              "3  699804   MALIK TYRONE MANDUJANO  ...   Black  270020\n",
              "4  238047        DUSTIN GLEN BLACK  ...  Blonde  277774\n",
              "\n",
              "[5 rows x 13 columns]"
            ]
          },
          "metadata": {
            "tags": []
          },
          "execution_count": 7
        }
      ]
    },
    {
      "cell_type": "code",
      "metadata": {
        "ExecuteTime": {
          "end_time": "2020-07-24T09:56:40.468430Z",
          "start_time": "2020-07-24T09:56:40.405126Z"
        },
        "id": "1ZMX9KBptRos",
        "outputId": "061e385f-4d1f-4e7e-f2ae-1e40a9c429c2",
        "colab": {
          "base_uri": "https://localhost:8080/",
          "height": 578
        }
      },
      "source": [
        "# regex to extract feet and inches from height\n",
        "regex_feet = re.compile(\"([0-9]+)\\'\")\n",
        "regex_inches = re.compile(\"([0-9]+)\\\"\")\n",
        "\n",
        "def extract_numbers(x, regex):\n",
        "    captures = regex.findall(x)\n",
        "    if len(captures) > 0:\n",
        "        try:\n",
        "            return int(captures[0])\n",
        "        except:\n",
        "            return None\n",
        "    else:\n",
        "        return None\n",
        "    \n",
        "# parse the height string to feet and inches\n",
        "data['feet'] = data['height'].map(lambda i: extract_numbers(i, regex_feet))\n",
        "data['inches'] = data['height'].map(lambda i: extract_numbers(i, regex_inches))\n",
        "data.loc[data.inches > 12,:]"
      ],
      "execution_count": 8,
      "outputs": [
        {
          "output_type": "execute_result",
          "data": {
            "text/html": [
              "<div>\n",
              "<style scoped>\n",
              "    .dataframe tbody tr th:only-of-type {\n",
              "        vertical-align: middle;\n",
              "    }\n",
              "\n",
              "    .dataframe tbody tr th {\n",
              "        vertical-align: top;\n",
              "    }\n",
              "\n",
              "    .dataframe thead th {\n",
              "        text-align: right;\n",
              "    }\n",
              "</style>\n",
              "<table border=\"1\" class=\"dataframe\">\n",
              "  <thead>\n",
              "    <tr style=\"text-align: right;\">\n",
              "      <th></th>\n",
              "      <th>nameid</th>\n",
              "      <th>name</th>\n",
              "      <th>book_date</th>\n",
              "      <th>city</th>\n",
              "      <th>holding_location</th>\n",
              "      <th>age</th>\n",
              "      <th>height</th>\n",
              "      <th>weight</th>\n",
              "      <th>race</th>\n",
              "      <th>sex</th>\n",
              "      <th>eyes</th>\n",
              "      <th>hair</th>\n",
              "      <th>bookid</th>\n",
              "      <th>feet</th>\n",
              "      <th>inches</th>\n",
              "    </tr>\n",
              "  </thead>\n",
              "  <tbody>\n",
              "    <tr>\n",
              "      <th>31</th>\n",
              "      <td>1083884</td>\n",
              "      <td>CALEB CHARLES RUTAN</td>\n",
              "      <td>1/2/2019 6:27:40 AM</td>\n",
              "      <td>DES MOINES, IA</td>\n",
              "      <td>PCJ</td>\n",
              "      <td>48</td>\n",
              "      <td>6' 63\"</td>\n",
              "      <td>200</td>\n",
              "      <td>White</td>\n",
              "      <td>Male</td>\n",
              "      <td>Brown</td>\n",
              "      <td>Gray</td>\n",
              "      <td>287593</td>\n",
              "      <td>6.0</td>\n",
              "      <td>63.0</td>\n",
              "    </tr>\n",
              "    <tr>\n",
              "      <th>456</th>\n",
              "      <td>912542</td>\n",
              "      <td>HUSSEIN NKUSU TAMBWE</td>\n",
              "      <td>7/4/2019 10:40:46 AM</td>\n",
              "      <td>URBANDALE, IA</td>\n",
              "      <td>PCJ</td>\n",
              "      <td>24</td>\n",
              "      <td>5' 57\"</td>\n",
              "      <td>175</td>\n",
              "      <td>Black</td>\n",
              "      <td>Male</td>\n",
              "      <td>Brown</td>\n",
              "      <td>Black</td>\n",
              "      <td>296374</td>\n",
              "      <td>5.0</td>\n",
              "      <td>57.0</td>\n",
              "    </tr>\n",
              "    <tr>\n",
              "      <th>566</th>\n",
              "      <td>1169382</td>\n",
              "      <td>JULIANNE JO BECKETT</td>\n",
              "      <td>7/15/2019 4:50:55 PM</td>\n",
              "      <td>KNOXVILLE, IA</td>\n",
              "      <td>PCJ</td>\n",
              "      <td>20</td>\n",
              "      <td>5' 59\"</td>\n",
              "      <td>350</td>\n",
              "      <td>White</td>\n",
              "      <td>Female</td>\n",
              "      <td>Hazel</td>\n",
              "      <td>Brown</td>\n",
              "      <td>296977</td>\n",
              "      <td>5.0</td>\n",
              "      <td>59.0</td>\n",
              "    </tr>\n",
              "    <tr>\n",
              "      <th>622</th>\n",
              "      <td>1227456</td>\n",
              "      <td>ANDREW LANTA BOYD</td>\n",
              "      <td>7/19/2019 8:11:17 AM</td>\n",
              "      <td>DES MOINES, IA</td>\n",
              "      <td>PCJ</td>\n",
              "      <td>35</td>\n",
              "      <td>5' 59\"</td>\n",
              "      <td>0</td>\n",
              "      <td>Black</td>\n",
              "      <td>Male</td>\n",
              "      <td>Brown</td>\n",
              "      <td>Black</td>\n",
              "      <td>297206</td>\n",
              "      <td>5.0</td>\n",
              "      <td>59.0</td>\n",
              "    </tr>\n",
              "    <tr>\n",
              "      <th>640</th>\n",
              "      <td>877215</td>\n",
              "      <td>SIOUX HAWK HOFFNER</td>\n",
              "      <td>7/22/2019 6:51:56 PM</td>\n",
              "      <td>DES MOINES, IA</td>\n",
              "      <td>PCJ</td>\n",
              "      <td>24</td>\n",
              "      <td>4' 49\"</td>\n",
              "      <td>90</td>\n",
              "      <td>Pacific Islander</td>\n",
              "      <td>Female</td>\n",
              "      <td>Brown</td>\n",
              "      <td>Brown</td>\n",
              "      <td>297380</td>\n",
              "      <td>4.0</td>\n",
              "      <td>49.0</td>\n",
              "    </tr>\n",
              "    <tr>\n",
              "      <th>671</th>\n",
              "      <td>1051124</td>\n",
              "      <td>JASON ALLAN BROWNING</td>\n",
              "      <td>7/24/2019 6:10:24 PM</td>\n",
              "      <td>URBANDALE, IA</td>\n",
              "      <td>PCJ</td>\n",
              "      <td>41</td>\n",
              "      <td>6' 60\"</td>\n",
              "      <td>205</td>\n",
              "      <td>White</td>\n",
              "      <td>Male</td>\n",
              "      <td>Green</td>\n",
              "      <td>Brown</td>\n",
              "      <td>297503</td>\n",
              "      <td>6.0</td>\n",
              "      <td>60.0</td>\n",
              "    </tr>\n",
              "    <tr>\n",
              "      <th>1068</th>\n",
              "      <td>1012250</td>\n",
              "      <td>DARRYL ANTHONY HISHAW</td>\n",
              "      <td>10/6/2019 4:48:50 PM</td>\n",
              "      <td>DES MOINES, IA</td>\n",
              "      <td>PCJ</td>\n",
              "      <td>26</td>\n",
              "      <td>5' 56\"</td>\n",
              "      <td>145</td>\n",
              "      <td>Black</td>\n",
              "      <td>Male</td>\n",
              "      <td>Brown</td>\n",
              "      <td>Black</td>\n",
              "      <td>301966</td>\n",
              "      <td>5.0</td>\n",
              "      <td>56.0</td>\n",
              "    </tr>\n",
              "    <tr>\n",
              "      <th>1192</th>\n",
              "      <td>1170588</td>\n",
              "      <td>KAY  SAW</td>\n",
              "      <td>10/27/2019 4:21:49 PM</td>\n",
              "      <td>DES MOINES, IA</td>\n",
              "      <td>PCJ</td>\n",
              "      <td>22</td>\n",
              "      <td>5' 54\"</td>\n",
              "      <td>120</td>\n",
              "      <td>Asian</td>\n",
              "      <td>Male</td>\n",
              "      <td>Brown</td>\n",
              "      <td>Black</td>\n",
              "      <td>303124</td>\n",
              "      <td>5.0</td>\n",
              "      <td>54.0</td>\n",
              "    </tr>\n",
              "  </tbody>\n",
              "</table>\n",
              "</div>"
            ],
            "text/plain": [
              "       nameid                   name  ... feet inches\n",
              "31    1083884    CALEB CHARLES RUTAN  ...  6.0   63.0\n",
              "456    912542   HUSSEIN NKUSU TAMBWE  ...  5.0   57.0\n",
              "566   1169382    JULIANNE JO BECKETT  ...  5.0   59.0\n",
              "622   1227456      ANDREW LANTA BOYD  ...  5.0   59.0\n",
              "640    877215     SIOUX HAWK HOFFNER  ...  4.0   49.0\n",
              "671   1051124   JASON ALLAN BROWNING  ...  6.0   60.0\n",
              "1068  1012250  DARRYL ANTHONY HISHAW  ...  5.0   56.0\n",
              "1192  1170588               KAY  SAW  ...  5.0   54.0\n",
              "\n",
              "[8 rows x 15 columns]"
            ]
          },
          "metadata": {
            "tags": []
          },
          "execution_count": 8
        }
      ]
    },
    {
      "cell_type": "code",
      "metadata": {
        "ExecuteTime": {
          "end_time": "2020-07-24T09:56:40.665460Z",
          "start_time": "2020-07-24T09:56:40.471412Z"
        },
        "id": "a35h6ORytRow",
        "outputId": "ecbf0b08-e8d2-4780-fcf0-301281ab8b06",
        "colab": {
          "base_uri": "https://localhost:8080/",
          "height": 225
        }
      },
      "source": [
        "# found some incorrect inches, assume 63\" to 6.3\"\n",
        "data['inches'] = data['inches'].map(lambda i: i / 10 if i > 12 else i)\n",
        "# convert feet/inches to inches\n",
        "data['height'] = data.apply(lambda row: row['feet'] * 12 + row['inches'], axis=1)\n",
        "# covert inches to m\n",
        "data['height'] = data['height'].map(lambda i: i * 2.54 / 100)\n",
        "# weight pounds => kg\n",
        "data['weight'] = data['weight'].map(lambda i: i * 0.453592)\n",
        "# calculate BMI = weight/height^2\n",
        "data['bmi'] = data.apply(lambda row: row['weight'] / row['height'] / row['height'], axis = 1)\n",
        "# create gender (number format of sex)\n",
        "data['gender'] = data['sex'].map(lambda i: 1 if i == 'Male' else 0)\n",
        "\n",
        "data[['nameid','age','height','weight','race','sex','eyes','hair', 'bmi']].head()"
      ],
      "execution_count": 9,
      "outputs": [
        {
          "output_type": "execute_result",
          "data": {
            "text/html": [
              "<div>\n",
              "<style scoped>\n",
              "    .dataframe tbody tr th:only-of-type {\n",
              "        vertical-align: middle;\n",
              "    }\n",
              "\n",
              "    .dataframe tbody tr th {\n",
              "        vertical-align: top;\n",
              "    }\n",
              "\n",
              "    .dataframe thead th {\n",
              "        text-align: right;\n",
              "    }\n",
              "</style>\n",
              "<table border=\"1\" class=\"dataframe\">\n",
              "  <thead>\n",
              "    <tr style=\"text-align: right;\">\n",
              "      <th></th>\n",
              "      <th>nameid</th>\n",
              "      <th>age</th>\n",
              "      <th>height</th>\n",
              "      <th>weight</th>\n",
              "      <th>race</th>\n",
              "      <th>sex</th>\n",
              "      <th>eyes</th>\n",
              "      <th>hair</th>\n",
              "      <th>bmi</th>\n",
              "    </tr>\n",
              "  </thead>\n",
              "  <tbody>\n",
              "    <tr>\n",
              "      <th>0</th>\n",
              "      <td>7482</td>\n",
              "      <td>54</td>\n",
              "      <td>1.8034</td>\n",
              "      <td>127.00576</td>\n",
              "      <td>Black</td>\n",
              "      <td>Male</td>\n",
              "      <td>Brown</td>\n",
              "      <td>Black</td>\n",
              "      <td>39.051641</td>\n",
              "    </tr>\n",
              "    <tr>\n",
              "      <th>1</th>\n",
              "      <td>754952</td>\n",
              "      <td>26</td>\n",
              "      <td>1.8034</td>\n",
              "      <td>95.25432</td>\n",
              "      <td>Black</td>\n",
              "      <td>Male</td>\n",
              "      <td>Brown</td>\n",
              "      <td>Black</td>\n",
              "      <td>29.288731</td>\n",
              "    </tr>\n",
              "    <tr>\n",
              "      <th>2</th>\n",
              "      <td>644421</td>\n",
              "      <td>24</td>\n",
              "      <td>1.7526</td>\n",
              "      <td>131.54168</td>\n",
              "      <td>White</td>\n",
              "      <td>Male</td>\n",
              "      <td>Green</td>\n",
              "      <td>Blonde</td>\n",
              "      <td>42.825039</td>\n",
              "    </tr>\n",
              "    <tr>\n",
              "      <th>3</th>\n",
              "      <td>699804</td>\n",
              "      <td>21</td>\n",
              "      <td>1.6002</td>\n",
              "      <td>58.96696</td>\n",
              "      <td>Black</td>\n",
              "      <td>Male</td>\n",
              "      <td>Brown</td>\n",
              "      <td>Black</td>\n",
              "      <td>23.028211</td>\n",
              "    </tr>\n",
              "    <tr>\n",
              "      <th>4</th>\n",
              "      <td>238047</td>\n",
              "      <td>29</td>\n",
              "      <td>1.8796</td>\n",
              "      <td>104.32616</td>\n",
              "      <td>White</td>\n",
              "      <td>Male</td>\n",
              "      <td>Blue</td>\n",
              "      <td>Blonde</td>\n",
              "      <td>29.529925</td>\n",
              "    </tr>\n",
              "  </tbody>\n",
              "</table>\n",
              "</div>"
            ],
            "text/plain": [
              "   nameid  age  height     weight   race   sex   eyes    hair        bmi\n",
              "0    7482   54  1.8034  127.00576  Black  Male  Brown   Black  39.051641\n",
              "1  754952   26  1.8034   95.25432  Black  Male  Brown   Black  29.288731\n",
              "2  644421   24  1.7526  131.54168  White  Male  Green  Blonde  42.825039\n",
              "3  699804   21  1.6002   58.96696  Black  Male  Brown   Black  23.028211\n",
              "4  238047   29  1.8796  104.32616  White  Male   Blue  Blonde  29.529925"
            ]
          },
          "metadata": {
            "tags": []
          },
          "execution_count": 9
        }
      ]
    },
    {
      "cell_type": "markdown",
      "metadata": {
        "id": "53v0ppJvtRoz"
      },
      "source": [
        "## Descriptive Analysis"
      ]
    },
    {
      "cell_type": "code",
      "metadata": {
        "ExecuteTime": {
          "end_time": "2020-07-24T09:56:40.672725Z",
          "start_time": "2020-07-24T09:56:40.667626Z"
        },
        "id": "FyNus4AjtRo0"
      },
      "source": [
        "plt.rcParams[\"figure.figsize\"] = (12, 6)\n",
        "plt.rcParams[\"xtick.labelsize\"] = 12\n",
        "plt.rcParams[\"ytick.labelsize\"] = 12\n",
        "plt.rcParams[\"font.size\"] = 12\n",
        "plt.rcParams[\"axes.labelsize\"] = 12"
      ],
      "execution_count": 10,
      "outputs": []
    },
    {
      "cell_type": "code",
      "metadata": {
        "ExecuteTime": {
          "end_time": "2020-07-24T09:56:41.458391Z",
          "start_time": "2020-07-24T09:56:40.674843Z"
        },
        "id": "q58bpT6wtRo2",
        "outputId": "45e7f51b-f10c-4203-f6f8-0d7c0206edb2",
        "colab": {
          "base_uri": "https://localhost:8080/",
          "height": 150
        }
      },
      "source": [
        "def ax_subplot(ax, x, title, bins = 25, color = 'lightblue'):\n",
        "    x = x[~x.isnull()]\n",
        "    ax.hist(x, bins = bins, color = color)\n",
        "    ax.set_title(title)\n",
        "    \n",
        "fig, ax = plt.subplots(2,2)\n",
        "ax_subplot(ax[0,0], data.height, 'Height(kg)')\n",
        "ax_subplot(ax[0,1], data.weight, 'Weight(cm)')\n",
        "ax_subplot(ax[1,0], data.age, 'Age')\n",
        "ax_subplot(ax[1,1], data.bmi, 'BMI')\n",
        "plt.tight_layout()\n",
        "plt.show()"
      ],
      "execution_count": 11,
      "outputs": [
        {
          "output_type": "display_data",
          "data": {
            "image/png": "[encoded data removed]",
            "text/plain": [
              "<Figure size 864x432 with 4 Axes>"
            ]
          },
          "metadata": {
            "tags": [],
            "needs_background": "light"
          }
        }
      ]
    },
    {
      "cell_type": "markdown",
      "metadata": {
        "id": "DTL4Nsx3tRo5"
      },
      "source": [
        "###  BMI density by Sex"
      ]
    },
    {
      "cell_type": "code",
      "metadata": {
        "ExecuteTime": {
          "end_time": "2020-07-24T09:56:42.076053Z",
          "start_time": "2020-07-24T09:56:41.460713Z"
        },
        "id": "UW7PYP24tRo6",
        "outputId": "7dbc923b-b285-46f7-e6fd-e31f949cd6d4",
        "colab": {
          "base_uri": "https://localhost:8080/",
          "height": 104
        }
      },
      "source": [
        "fig, ax = plt.subplots(1,2,sharex=True)\n",
        "fig.set_size_inches(12,4)\n",
        "options = {'density plot': True, 'count plot': False}\n",
        "\n",
        "for i, (title, normed) in enumerate(options.items()):\n",
        "\n",
        "    for sex in ['Male','Female']:\n",
        "        ax[i].hist(data.loc[(data.sex == sex) & (~data.bmi.isnull()),'bmi'].values, label = sex, alpha = 0.5, \n",
        "                 bins = 30, density = normed)\n",
        "        ax[i].set_title(title)\n",
        "        ax[i].set_xlabel('BMI')\n",
        "        ax[i].legend(loc = 'upper left')\n",
        "        \n",
        "plt.tight_layout()        \n",
        "plt.show()"
      ],
      "execution_count": 12,
      "outputs": [
        {
          "output_type": "display_data",
          "data": {
            "image/png": "[encoded data removed]",
            "text/plain": [
              "<Figure size 864x288 with 2 Axes>"
            ]
          },
          "metadata": {
            "tags": [],
            "needs_background": "light"
          }
        }
      ]
    },
    {
      "cell_type": "markdown",
      "metadata": {
        "id": "EBTOQOUAtRo9"
      },
      "source": [
        "### Gender and Race Imbalance"
      ]
    },
    {
      "cell_type": "code",
      "metadata": {
        "ExecuteTime": {
          "end_time": "2020-07-24T09:56:42.283805Z",
          "start_time": "2020-07-24T09:56:42.078443Z"
        },
        "id": "xa70q9FFtRo-",
        "outputId": "e4de0382-99ad-496b-de72-93ca83d487a1",
        "colab": {
          "base_uri": "https://localhost:8080/",
          "height": 182
        }
      },
      "source": [
        "sns.countplot(y = 'race' ,data = data, hue = 'sex')"
      ],
      "execution_count": 13,
      "outputs": [
        {
          "output_type": "execute_result",
          "data": {
            "text/plain": [
              "<matplotlib.axes._subplots.AxesSubplot at 0x7f7553d9f310>"
            ]
          },
          "metadata": {
            "tags": []
          },
          "execution_count": 13
        },
        {
          "output_type": "display_data",
          "data": {
            "image/png": "[encoded data removed]",
            "text/plain": [
              "<Figure size 864x432 with 1 Axes>"
            ]
          },
          "metadata": {
            "tags": [],
            "needs_background": "light"
          }
        }
      ]
    },
    {
      "cell_type": "markdown",
      "metadata": {
        "collapsed": true,
        "id": "TVmSMwNNtRpA"
      },
      "source": [
        "## split train / valid data"
      ]
    },
    {
      "cell_type": "code",
      "metadata": {
        "ExecuteTime": {
          "end_time": "2020-07-24T09:56:42.358585Z",
          "start_time": "2020-07-24T09:56:42.286017Z"
        },
        "id": "5NWkoMx-tRpB",
        "outputId": "1a11bb1f-461a-4429-edfe-50b15e07ccd3",
        "colab": {
          "base_uri": "https://localhost:8080/"
        }
      },
      "source": [
        "# remove rows that no face images\n",
        "data['index'] = data['bookid'].map(lambda i: str(i) +'.jpg')\n",
        "allimage = os.listdir('./data/face/')\n",
        "data = data.loc[data['index'].isin(allimage),:]\n",
        " \n",
        "# remove rows with invalid BMI\n",
        "data = data.loc[~data['bmi'].isnull(), :]\n",
        " \n",
        "# split train/valid\n",
        "in_train = np.random.random(size = len(data)) <= 0.8\n",
        "train = data.loc[in_train,:]\n",
        "test = data.loc[~in_train,:]\n",
        " \n",
        "print('train data dimension: {}'.format(str(train.shape)))\n",
        "print('test data dimension:  {}'.format(str(test.shape)))\n",
        " \n",
        "# output to csv files\n",
        "train.to_csv('./data/train.csv', index = False)\n",
        "test.to_csv('./data/valid.csv', index = False)"
      ],
      "execution_count": 15,
      "outputs": [
        {
          "output_type": "stream",
          "text": [
            "train data dimension: (1242, 18)\n",
            "test data dimension:  (301, 18)\n"
          ],
          "name": "stdout"
        }
      ]
    },
    {
      "cell_type": "code",
      "metadata": {
        "id": "NuPl5dQ5tRpE"
      },
      "source": [
        ""
      ],
      "execution_count": 14,
      "outputs": []
    }
  ]
}